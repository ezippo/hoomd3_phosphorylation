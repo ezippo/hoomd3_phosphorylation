{
 "cells": [
  {
   "cell_type": "markdown",
   "id": "fffc6f3b",
   "metadata": {},
   "source": [
    "# Contacts analysis"
   ]
  },
  {
   "cell_type": "code",
   "execution_count": 1,
   "id": "ac4d9ad2",
   "metadata": {},
   "outputs": [],
   "source": [
    "import numpy as np\n",
    "from matplotlib import pyplot as plt\n",
    "import MDAnalysis as mda"
   ]
  },
  {
   "cell_type": "markdown",
   "id": "e6af6a2f",
   "metadata": {},
   "source": [
    "### Initialization"
   ]
  },
  {
   "cell_type": "code",
   "execution_count": 67,
   "id": "1d8ae7ea",
   "metadata": {},
   "outputs": [],
   "source": [
    "# MACROs\n",
    "\n",
    "n_active = 7\n",
    "contact_dist = 1.33"
   ]
  },
  {
   "cell_type": "code",
   "execution_count": 4,
   "id": "26169ed1",
   "metadata": {},
   "outputs": [
    {
     "name": "stdout",
     "output_type": "stream",
     "text": [
      "1000000 31\n",
      "[[ 6.1641     8.7069     4.7288   ]\n",
      " [ 4.9266     8.5788     4.2147   ]\n",
      " [ 3.6913    10.4997     1.3659   ]\n",
      " [ 7.8476    11.5389     1.8591   ]\n",
      " [ 6.0931    10.816      3.8959   ]\n",
      " [ 4.6078    10.3927     6.0366   ]\n",
      " [ 4.8056    10.1545     6.271    ]\n",
      " [ 3.8092    10.6693     8.2078   ]\n",
      " [ 3.1231    11.8534     8.589    ]\n",
      " [ 3.6203    12.7951     8.59     ]\n",
      " [ 8.9924    10.9738     9.7174   ]\n",
      " [ 9.4304     9.6519     9.8643   ]\n",
      " [ 9.7069     9.0196     9.8133   ]\n",
      " [ 9.8556     8.3431     9.6635   ]\n",
      " [ 9.8608     7.6308     9.5241   ]\n",
      " [ 9.9343     5.604      7.7719   ]\n",
      " [ 9.9534     5.2112     7.2206   ]\n",
      " [ 9.7854     4.4407     6.0902   ]\n",
      " [ 9.4335     4.144      5.5792   ]\n",
      " [ 7.0136     3.4132     4.4422   ]\n",
      " [ 6.6863     3.4098     4.4281   ]\n",
      " [ 5.7063     3.7243     4.3623   ]\n",
      " [ 5.1192     4.0953     4.3649   ]\n",
      " [ 4.8431     4.3737     4.3553   ]\n",
      " [-3.2123     2.0080001  3.3926   ]\n",
      " [-3.0011     3.0841     2.9758   ]\n",
      " [-3.0272002  2.3416     2.6188   ]\n",
      " [-2.769      2.6163     2.6894999]\n",
      " [-2.7848     2.5139     3.0593   ]\n",
      " [-2.4127002  2.4061     3.0567   ]\n",
      " [-2.2919002  2.6635     2.7958   ]]\n"
     ]
    }
   ],
   "source": [
    "u = mda.Universe(\"activeCK1d_SER_start.gsd\", \"activeCK1d_SER_sim1_dump.dcd\")\n",
    "ag = u.atoms\n",
    "n_atoms = len(ag)\n",
    "n_steps = len(u.trajectory)\n",
    "\n",
    "n_ser = n_atoms-n_active\n",
    "\n",
    "print(n_steps, n_atoms)\n",
    "print(ag.positions)"
   ]
  },
  {
   "cell_type": "markdown",
   "id": "82226a38",
   "metadata": {},
   "source": [
    "### Comupting distances "
   ]
  },
  {
   "cell_type": "code",
   "execution_count": 5,
   "id": "b17b7ae6",
   "metadata": {},
   "outputs": [],
   "source": [
    "def compute_activeCK1d_pos(positions):\n",
    "    active_pos = np.array( [ np.sum(positions[-n_active:,i])/7. for i in range(3)] )\n",
    "    return active_pos"
   ]
  },
  {
   "cell_type": "code",
   "execution_count": 6,
   "id": "dec623a0",
   "metadata": {},
   "outputs": [],
   "source": [
    "def compute_distances(active_pos, ser_pos):\n",
    "    n_ser = len(ser_pos)\n",
    "    dist = np.array(ser_pos)\n",
    "    dist = dist - active_pos\n",
    "    dist =  np.array( [ np.sqrt( (dist[i]**2).sum() ) for i in range(n_ser) ] ) \n",
    "    return dist"
   ]
  },
  {
   "cell_type": "code",
   "execution_count": 11,
   "id": "17be64b6",
   "metadata": {},
   "outputs": [],
   "source": [
    "dist = []\n",
    "for ts in u.trajectory:\n",
    "    pos = ag.positions\n",
    "    active_pos = compute_activeCK1d_pos(pos)\n",
    "    dist.append(compute_distances(active_pos, pos[:-n_active]))"
   ]
  },
  {
   "cell_type": "code",
   "execution_count": 36,
   "id": "85b96c49",
   "metadata": {},
   "outputs": [],
   "source": [
    "dist = np.array(dist)"
   ]
  },
  {
   "cell_type": "code",
   "execution_count": 58,
   "id": "c12d7196",
   "metadata": {},
   "outputs": [
    {
     "name": "stdout",
     "output_type": "stream",
     "text": [
      "1000000\n",
      "24\n"
     ]
    }
   ],
   "source": [
    "print(len(dist))\n",
    "print(len(dist[0]))"
   ]
  },
  {
   "cell_type": "code",
   "execution_count": 66,
   "id": "c70adc75",
   "metadata": {},
   "outputs": [
    {
     "name": "stdout",
     "output_type": "stream",
     "text": [
      "['SER' 'GLU' 'ASP' 'PHE' 'GLY' 'LEU' 'ALA']\n",
      "[0.80438814 0.60572746 0.4402629  0.2703481  0.1182015  0.40636533\n",
      " 0.5345246 ]\n"
     ]
    }
   ],
   "source": [
    "active_types = ag.types[-n_active:]\n",
    "print(active_types)\n",
    "active_residues_pos = ag.positions[-n_active:]\n",
    "active_center_pos = compute_activeCK1d_pos(active_residues_pos)\n",
    "\n",
    "dist_active = compute_distances(active_center_pos, active_residues_pos)\n",
    "print(dist_active)"
   ]
  },
  {
   "cell_type": "markdown",
   "id": "e94379c5",
   "metadata": {},
   "source": [
    "### Plotting"
   ]
  },
  {
   "cell_type": "code",
   "execution_count": 38,
   "id": "a00878a2",
   "metadata": {},
   "outputs": [],
   "source": [
    "def plot_dist(dist, ser_id=0, start=0, end=None, jump=20):\n",
    "    if end==None:\n",
    "        end_tmp = len(dist)\n",
    "    else:\n",
    "        end_tmp = end\n",
    "    \n",
    "    time = np.arange(start, end_tmp, jump)*2\n",
    "    \n",
    "    plt.figure()\n",
    "    plt.plot(time, dist[start:end_tmp:jump,ser_id])\n",
    "    plt.xlabel('t [ps]')\n",
    "    plt.show()"
   ]
  },
  {
   "cell_type": "code",
   "execution_count": 39,
   "id": "62ee7be6",
   "metadata": {},
   "outputs": [
    {
     "data": {
      "image/png": "[encoded data removed]",
      "text/plain": [
       "<Figure size 432x288 with 1 Axes>"
      ]
     },
     "metadata": {
      "needs_background": "light"
     },
     "output_type": "display_data"
    }
   ],
   "source": [
    "plot_dist(dist)"
   ]
  },
  {
   "cell_type": "markdown",
   "id": "46642049",
   "metadata": {},
   "source": [
    "### Contacts"
   ]
  },
  {
   "cell_type": "code",
   "execution_count": 68,
   "id": "b375633a",
   "metadata": {},
   "outputs": [
    {
     "name": "stdout",
     "output_type": "stream",
     "text": [
      "(array([ 36489,  36490, 156806, 156807, 156808, 156809, 156809, 156810,\n",
      "       156810, 378667, 427360, 427361, 427362, 427363, 427364, 427365,\n",
      "       427366, 530683, 530684, 920556, 920556, 920556, 920557, 920557,\n",
      "       920558, 920558, 920558, 920559, 920559, 920560, 920560, 920561,\n",
      "       920561, 920562, 920563, 920563, 920564, 920564, 920565, 920565,\n",
      "       920566, 920566, 920567, 920567, 920568, 920569, 920570, 920570,\n",
      "       920572, 920572]), array([ 2,  2,  5,  5,  6,  5,  6,  5,  6,  3,  1,  1,  1,  1,  1,  1,  1,\n",
      "        0,  0, 15, 16, 17, 15, 16, 15, 16, 17, 16, 17, 16, 17, 16, 17, 16,\n",
      "       15, 16, 15, 16, 15, 16, 15, 16, 15, 16, 15, 16, 15, 16, 22, 23]))\n"
     ]
    }
   ],
   "source": [
    "contacts = np.where(dist<contact_dist)\n",
    "print(contacts)"
   ]
  },
  {
   "cell_type": "code",
   "execution_count": 47,
   "id": "afda0cbe",
   "metadata": {},
   "outputs": [
    {
     "data": {
      "image/png": "[encoded data removed]",
      "text/plain": [
       "<Figure size 432x288 with 1 Axes>"
      ]
     },
     "metadata": {
      "needs_background": "light"
     },
     "output_type": "display_data"
    },
    {
     "data": {
      "image/png": "[encoded data removed]",
      "text/plain": [
       "<Figure size 432x288 with 1 Axes>"
      ]
     },
     "metadata": {
      "needs_background": "light"
     },
     "output_type": "display_data"
    }
   ],
   "source": [
    "plot_dist(dist, 2, 36472, 36491, 1)\n",
    "plot_dist(dist, 3, 36472, 36491, 1)"
   ]
  },
  {
   "cell_type": "code",
   "execution_count": 52,
   "id": "54233510",
   "metadata": {},
   "outputs": [
    {
     "data": {
      "image/png": "[encoded data removed]",
      "text/plain": [
       "<Figure size 432x288 with 1 Axes>"
      ]
     },
     "metadata": {
      "needs_background": "light"
     },
     "output_type": "display_data"
    }
   ],
   "source": [
    "plot_dist(dist, 9, 27876, 27884, 1)"
   ]
  },
  {
   "cell_type": "code",
   "execution_count": 56,
   "id": "b06a2c47",
   "metadata": {},
   "outputs": [
    {
     "name": "stdout",
     "output_type": "stream",
     "text": [
      "(array([156809, 156809, 156810, 156810, 378667, 920556, 920556, 920557,\n",
      "       920558, 920558, 920559, 920563, 920564, 920565]), array([ 5,  6,  5,  6,  3, 15, 16, 16, 15, 16, 16, 16, 15, 15]))\n",
      "[0.89721018 0.96842014 0.99327425 0.85345853 0.36215887 0.94291115\n",
      " 0.40265359 0.46899534 0.92216532 0.91264723 0.9733743  0.873223\n",
      " 0.99400718 0.99683296]\n"
     ]
    }
   ],
   "source": [
    "contacts = np.where(dist<1.0)\n",
    "print(contacts)\n",
    "print(dist[contacts])"
   ]
  },
  {
   "cell_type": "code",
   "execution_count": null,
   "id": "cad24713",
   "metadata": {},
   "outputs": [],
   "source": []
  }
 ],
 "metadata": {
  "kernelspec": {
   "display_name": "Python 3 (ipykernel)",
   "language": "python",
   "name": "python3"
  },
  "language_info": {
   "codemirror_mode": {
    "name": "ipython",
    "version": 3
   },
   "file_extension": ".py",
   "mimetype": "text/x-python",
   "name": "python",
   "nbconvert_exporter": "python",
   "pygments_lexer": "ipython3",
   "version": "3.9.12"
  }
 },
 "nbformat": 4,
 "nbformat_minor": 5
}
